{
 "cells": [
  {
   "cell_type": "code",
   "execution_count": 1,
   "id": "d5e12de9",
   "metadata": {},
   "outputs": [],
   "source": [
    "import math\n",
    "def gradient_descent(f, x0, alpha, n):\n",
    "    h=0.000001\n",
    "    i=1\n",
    "    while i<=n:\n",
    "        prev=f(x0)\n",
    "        # Evaluate derivative at current point\n",
    "        f_prime_x = (f(x0+h)-f(x0-h))/(2*h)\n",
    "        #Update x0\n",
    "        x0 = x0-alpha*f_prime_x\n",
    "        #Calculate functional value at updated point\n",
    "        current =f(x0)\n",
    "        if abs(prev-current)<=0.000001:\n",
    "            break\n",
    "        i=i+1\n",
    "    return float(round(current,3))"
   ]
  }
 ],
 "metadata": {
  "kernelspec": {
   "display_name": "Python (pytorch_env)",
   "language": "python",
   "name": "pytorch_env"
  },
  "language_info": {
   "codemirror_mode": {
    "name": "ipython",
    "version": 3
   },
   "file_extension": ".py",
   "mimetype": "text/x-python",
   "name": "python",
   "nbconvert_exporter": "python",
   "pygments_lexer": "ipython3",
   "version": "3.11.9"
  }
 },
 "nbformat": 4,
 "nbformat_minor": 5
}
